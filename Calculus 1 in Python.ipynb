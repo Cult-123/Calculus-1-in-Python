{
 "cells": [
  {
   "cell_type": "code",
   "execution_count": 1,
   "id": "da1dcda7",
   "metadata": {},
   "outputs": [],
   "source": [
    "import sympy\n",
    "from sympy import *"
   ]
  },
  {
   "cell_type": "code",
   "execution_count": 2,
   "id": "07c672ac",
   "metadata": {},
   "outputs": [],
   "source": [
    "X, Y = sympy.symbols('X Y')"
   ]
  },
  {
   "cell_type": "code",
   "execution_count": 3,
   "id": "34841ea4",
   "metadata": {},
   "outputs": [],
   "source": [
    "Z = X**2 + Y"
   ]
  },
  {
   "cell_type": "code",
   "execution_count": 4,
   "id": "5d4d4453",
   "metadata": {},
   "outputs": [
    {
     "data": {
      "text/latex": [
       "$\\displaystyle X^{2} + Y$"
      ],
      "text/plain": [
       "X**2 + Y"
      ]
     },
     "execution_count": 4,
     "metadata": {},
     "output_type": "execute_result"
    }
   ],
   "source": [
    "Z"
   ]
  },
  {
   "cell_type": "code",
   "execution_count": 5,
   "id": "6236cfd0",
   "metadata": {},
   "outputs": [
    {
     "data": {
      "text/latex": [
       "$\\displaystyle Y + 16$"
      ],
      "text/plain": [
       "Y + 16"
      ]
     },
     "execution_count": 5,
     "metadata": {},
     "output_type": "execute_result"
    }
   ],
   "source": [
    "Z.subs(X, 4)"
   ]
  },
  {
   "cell_type": "code",
   "execution_count": 6,
   "id": "80b8c319",
   "metadata": {},
   "outputs": [
    {
     "data": {
      "text/latex": [
       "$\\displaystyle \\sin{\\left(X \\right)}$"
      ],
      "text/plain": [
       "sin(X)"
      ]
     },
     "execution_count": 6,
     "metadata": {},
     "output_type": "execute_result"
    }
   ],
   "source": [
    "sympy.sin(X)"
   ]
  },
  {
   "cell_type": "code",
   "execution_count": 7,
   "id": "4cf4fac6",
   "metadata": {},
   "outputs": [
    {
     "data": {
      "text/latex": [
       "$\\displaystyle \\operatorname{asin}{\\left(X \\right)}$"
      ],
      "text/plain": [
       "asin(X)"
      ]
     },
     "execution_count": 7,
     "metadata": {},
     "output_type": "execute_result"
    }
   ],
   "source": [
    "sympy.asin(X)"
   ]
  },
  {
   "cell_type": "code",
   "execution_count": 8,
   "id": "9419878b",
   "metadata": {},
   "outputs": [
    {
     "data": {
      "text/latex": [
       "$\\displaystyle \\sec{\\left(X \\right)}$"
      ],
      "text/plain": [
       "sec(X)"
      ]
     },
     "execution_count": 8,
     "metadata": {},
     "output_type": "execute_result"
    }
   ],
   "source": [
    "sympy.sec(X)"
   ]
  },
  {
   "cell_type": "code",
   "execution_count": 9,
   "id": "f6847f8a",
   "metadata": {},
   "outputs": [
    {
     "data": {
      "text/latex": [
       "$\\displaystyle e^{X}$"
      ],
      "text/plain": [
       "exp(X)"
      ]
     },
     "execution_count": 9,
     "metadata": {},
     "output_type": "execute_result"
    }
   ],
   "source": [
    "sympy.exp(X)"
   ]
  },
  {
   "cell_type": "code",
   "execution_count": 10,
   "id": "b9019444",
   "metadata": {},
   "outputs": [
    {
     "data": {
      "text/latex": [
       "$\\displaystyle \\log{\\left(X \\right)}$"
      ],
      "text/plain": [
       "log(X)"
      ]
     },
     "execution_count": 10,
     "metadata": {},
     "output_type": "execute_result"
    }
   ],
   "source": [
    "sympy.log(X)"
   ]
  },
  {
   "cell_type": "code",
   "execution_count": 11,
   "id": "653dd566",
   "metadata": {},
   "outputs": [
    {
     "data": {
      "text/latex": [
       "$\\displaystyle \\frac{\\log{\\left(X \\right)}}{\\log{\\left(10 \\right)}}$"
      ],
      "text/plain": [
       "log(X)/log(10)"
      ]
     },
     "execution_count": 11,
     "metadata": {},
     "output_type": "execute_result"
    }
   ],
   "source": [
    "sympy.log(X, 10)"
   ]
  },
  {
   "cell_type": "code",
   "execution_count": 12,
   "id": "61f25cea",
   "metadata": {},
   "outputs": [
    {
     "data": {
      "text/latex": [
       "$\\displaystyle X^{1.5}$"
      ],
      "text/plain": [
       "X**1.5"
      ]
     },
     "execution_count": 12,
     "metadata": {},
     "output_type": "execute_result"
    }
   ],
   "source": [
    "X**(3/2)"
   ]
  },
  {
   "cell_type": "code",
   "execution_count": 13,
   "id": "58b6cc7e",
   "metadata": {},
   "outputs": [
    {
     "data": {
      "text/latex": [
       "$\\displaystyle X^{\\frac{3}{2}}$"
      ],
      "text/plain": [
       "X**(3/2)"
      ]
     },
     "execution_count": 13,
     "metadata": {},
     "output_type": "execute_result"
    }
   ],
   "source": [
    "X**(sympy.Rational(3,2))"
   ]
  },
  {
   "cell_type": "markdown",
   "id": "a79d0d09",
   "metadata": {},
   "source": [
    "# Limits"
   ]
  },
  {
   "cell_type": "markdown",
   "id": "abb50393",
   "metadata": {},
   "source": [
    "$$\\lim_{x \\to \\pi} \\sin(x/2+ \\sin(x))$$"
   ]
  },
  {
   "cell_type": "code",
   "execution_count": 14,
   "id": "3713fc25",
   "metadata": {},
   "outputs": [
    {
     "data": {
      "text/latex": [
       "$\\displaystyle \\sin{\\left(\\frac{X}{2} + \\sin{\\left(X \\right)} \\right)}$"
      ],
      "text/plain": [
       "sin(X/2 + sin(X))"
      ]
     },
     "execution_count": 14,
     "metadata": {},
     "output_type": "execute_result"
    }
   ],
   "source": [
    "sympy.sin(X/2 + sympy.sin(X))"
   ]
  },
  {
   "cell_type": "code",
   "execution_count": 15,
   "id": "f29244c2",
   "metadata": {},
   "outputs": [
    {
     "data": {
      "text/latex": [
       "$\\displaystyle 1$"
      ],
      "text/plain": [
       "1"
      ]
     },
     "execution_count": 15,
     "metadata": {},
     "output_type": "execute_result"
    }
   ],
   "source": [
    "sympy.limit(sympy.sin(X/2 + sympy.sin(X)), X, sympy.pi)"
   ]
  },
  {
   "cell_type": "markdown",
   "id": "fca7bbb7",
   "metadata": {},
   "source": [
    "$$ \\lim_{x \\to 0^+} \\frac{2e^{1/x}}{e^{1/x}+1} $$"
   ]
  },
  {
   "cell_type": "code",
   "execution_count": 16,
   "id": "6525cd2b",
   "metadata": {},
   "outputs": [
    {
     "data": {
      "text/latex": [
       "$\\displaystyle \\frac{2 e^{\\frac{1}{X}}}{e^{\\frac{1}{X}} + 1}$"
      ],
      "text/plain": [
       "2*exp(1/X)/(exp(1/X) + 1)"
      ]
     },
     "execution_count": 16,
     "metadata": {},
     "output_type": "execute_result"
    }
   ],
   "source": [
    "2*sympy.exp(1/X) / (sympy.exp(1/X)+1)"
   ]
  },
  {
   "cell_type": "code",
   "execution_count": 17,
   "id": "37d4372f",
   "metadata": {},
   "outputs": [
    {
     "data": {
      "text/latex": [
       "$\\displaystyle 2$"
      ],
      "text/plain": [
       "2"
      ]
     },
     "execution_count": 17,
     "metadata": {},
     "output_type": "execute_result"
    }
   ],
   "source": [
    "sympy.limit(2*sympy.exp(1/X) / (sympy.exp(1/X)+1), X, 0, dir='+') # One sided '+' Right sided Limit"
   ]
  },
  {
   "cell_type": "markdown",
   "id": "7a937809",
   "metadata": {},
   "source": [
    "$$ \\lim_{x \\to 0^-} \\frac{2e^{1/x}}{e^{1/x}+1} $$"
   ]
  },
  {
   "cell_type": "code",
   "execution_count": 18,
   "id": "364ddfb2",
   "metadata": {},
   "outputs": [
    {
     "data": {
      "text/latex": [
       "$\\displaystyle 0$"
      ],
      "text/plain": [
       "0"
      ]
     },
     "execution_count": 18,
     "metadata": {},
     "output_type": "execute_result"
    }
   ],
   "source": [
    "sympy.limit(2*sympy.exp(1/X) / (sympy.exp(1/X)+1), X, 0, dir='-') # One sided '-' Left sided Limit"
   ]
  },
  {
   "cell_type": "markdown",
   "id": "467fb11d",
   "metadata": {},
   "source": [
    "So Limit Dont Exist @ X--> 0 & Right Sided Limit is 2 != Left Sided Limit 0"
   ]
  },
  {
   "cell_type": "markdown",
   "id": "fe28f97b",
   "metadata": {},
   "source": [
    "$$ \\lim_{x \\to \\infty} \\frac{\\cos(x)-1}{x} $$"
   ]
  },
  {
   "cell_type": "code",
   "execution_count": 19,
   "id": "ea985fce",
   "metadata": {},
   "outputs": [
    {
     "data": {
      "text/latex": [
       "$\\displaystyle \\frac{\\cos{\\left(X \\right)} - 1}{X}$"
      ],
      "text/plain": [
       "(cos(X) - 1)/X"
      ]
     },
     "execution_count": 19,
     "metadata": {},
     "output_type": "execute_result"
    }
   ],
   "source": [
    "(sympy.cos(X) - 1)/X"
   ]
  },
  {
   "cell_type": "code",
   "execution_count": 20,
   "id": "b2059fda",
   "metadata": {},
   "outputs": [
    {
     "data": {
      "text/latex": [
       "$\\displaystyle 0$"
      ],
      "text/plain": [
       "0"
      ]
     },
     "execution_count": 20,
     "metadata": {},
     "output_type": "execute_result"
    }
   ],
   "source": [
    "sympy.limit((sympy.cos(X) - 1)/X, X, sympy.oo)"
   ]
  },
  {
   "cell_type": "markdown",
   "id": "6d026916",
   "metadata": {},
   "source": [
    "# Derivatives"
   ]
  },
  {
   "cell_type": "markdown",
   "id": "a8c5c8d7",
   "metadata": {},
   "source": [
    "$$ \\frac{d}{dx} \\left( \\frac{1+\\sin x}{1 - \\cos x} \\right)^2 $$"
   ]
  },
  {
   "cell_type": "code",
   "execution_count": 21,
   "id": "cf2c0779",
   "metadata": {},
   "outputs": [
    {
     "data": {
      "text/latex": [
       "$\\displaystyle \\frac{2 \\left(\\sin{\\left(X \\right)} + 1\\right) \\cos{\\left(X \\right)}}{\\left(1 - \\cos{\\left(X \\right)}\\right)^{2}} - \\frac{2 \\left(\\sin{\\left(X \\right)} + 1\\right)^{2} \\sin{\\left(X \\right)}}{\\left(1 - \\cos{\\left(X \\right)}\\right)^{3}}$"
      ],
      "text/plain": [
       "2*(sin(X) + 1)*cos(X)/(1 - cos(X))**2 - 2*(sin(X) + 1)**2*sin(X)/(1 - cos(X))**3"
      ]
     },
     "execution_count": 21,
     "metadata": {},
     "output_type": "execute_result"
    }
   ],
   "source": [
    "sympy.diff(((1 + sympy.sin(X)) / (1 - sympy.cos(X)))**2, X)"
   ]
  },
  {
   "cell_type": "markdown",
   "id": "8ca4b48a",
   "metadata": {},
   "source": [
    "$$ \\frac{d}{dx} (\\log_5 (x))^{x/2}$$"
   ]
  },
  {
   "cell_type": "code",
   "execution_count": 22,
   "id": "aea435c2",
   "metadata": {},
   "outputs": [
    {
     "data": {
      "text/latex": [
       "$\\displaystyle \\left(\\frac{\\log{\\left(X \\right)}}{\\log{\\left(5 \\right)}}\\right)^{\\frac{X}{2}} \\left(\\frac{\\log{\\left(\\frac{\\log{\\left(X \\right)}}{\\log{\\left(5 \\right)}} \\right)}}{2} + \\frac{1}{2 \\log{\\left(X \\right)}}\\right)$"
      ],
      "text/plain": [
       "(log(X)/log(5))**(X/2)*(log(log(X)/log(5))/2 + 1/(2*log(X)))"
      ]
     },
     "execution_count": 22,
     "metadata": {},
     "output_type": "execute_result"
    }
   ],
   "source": [
    "sympy.diff(sympy.log(X, 5)**(X/2), X)"
   ]
  },
  {
   "cell_type": "markdown",
   "id": "83ffae35",
   "metadata": {},
   "source": [
    "$$\\frac{d}{dx} f(x+g(x)) $$"
   ]
  },
  {
   "cell_type": "code",
   "execution_count": 23,
   "id": "501a4457",
   "metadata": {},
   "outputs": [],
   "source": [
    "f, g = sympy.symbols('f g', cls=sympy.Function)\n",
    "g = g(X)\n",
    "f = f(X+g)"
   ]
  },
  {
   "cell_type": "code",
   "execution_count": 24,
   "id": "84cc05ca",
   "metadata": {},
   "outputs": [
    {
     "data": {
      "text/latex": [
       "$\\displaystyle \\left(\\frac{d}{d X} g{\\left(X \\right)} + 1\\right) \\left. \\frac{d}{d \\xi_{1}} f{\\left(\\xi_{1} \\right)} \\right|_{\\substack{ \\xi_{1}=X + g{\\left(X \\right)} }}$"
      ],
      "text/plain": [
       "(Derivative(g(X), X) + 1)*Subs(Derivative(f(_xi_1), _xi_1), _xi_1, X + g(X))"
      ]
     },
     "execution_count": 24,
     "metadata": {},
     "output_type": "execute_result"
    }
   ],
   "source": [
    "sympy.diff(f,X)"
   ]
  },
  {
   "cell_type": "markdown",
   "id": "ec375500",
   "metadata": {},
   "source": [
    "# Basic Antiderivatives"
   ]
  },
  {
   "cell_type": "markdown",
   "id": "baa924a3",
   "metadata": {},
   "source": [
    "$$ \\int \\csc(x) \\cot (x)  dx $$"
   ]
  },
  {
   "cell_type": "code",
   "execution_count": 25,
   "id": "a77f7858",
   "metadata": {},
   "outputs": [
    {
     "data": {
      "text/latex": [
       "$\\displaystyle - \\frac{1}{\\sin{\\left(X \\right)}}$"
      ],
      "text/plain": [
       "-1/sin(X)"
      ]
     },
     "execution_count": 25,
     "metadata": {},
     "output_type": "execute_result"
    }
   ],
   "source": [
    "sympy.integrate(sympy.csc(X)*sympy.cot(X), X)"
   ]
  },
  {
   "cell_type": "markdown",
   "id": "0b404890",
   "metadata": {},
   "source": [
    "$$ \\int 4 \\sec (3x) \\tan(3x)dx $$"
   ]
  },
  {
   "cell_type": "code",
   "execution_count": 26,
   "id": "97160b8c",
   "metadata": {},
   "outputs": [
    {
     "data": {
      "text/latex": [
       "$\\displaystyle \\frac{4}{3 \\cos{\\left(3 X \\right)}}$"
      ],
      "text/plain": [
       "4/(3*cos(3*X))"
      ]
     },
     "execution_count": 26,
     "metadata": {},
     "output_type": "execute_result"
    }
   ],
   "source": [
    "sympy.integrate(4*sympy.sec(3*X)*sympy.tan(3*X), X)"
   ]
  },
  {
   "cell_type": "markdown",
   "id": "bf58730c",
   "metadata": {},
   "source": [
    "$$ \\int \\left( \\frac{2}{\\sqrt{1-x^2}} - \\frac{1}{x^{1/4}}\\right) dx$$"
   ]
  },
  {
   "cell_type": "code",
   "execution_count": 27,
   "id": "14e1d3ee",
   "metadata": {},
   "outputs": [
    {
     "data": {
      "text/latex": [
       "$\\displaystyle - \\frac{4 X^{\\frac{3}{4}}}{3} + 2 \\operatorname{asin}{\\left(X \\right)}$"
      ],
      "text/plain": [
       "-4*X**(3/4)/3 + 2*asin(X)"
      ]
     },
     "execution_count": 27,
     "metadata": {},
     "output_type": "execute_result"
    }
   ],
   "source": [
    "sympy.integrate(2/sympy.sqrt(1-X**2) - 1/X**sympy.Rational(1,4), X)"
   ]
  },
  {
   "cell_type": "markdown",
   "id": "932a4110",
   "metadata": {},
   "source": [
    "# Initial Value Problems"
   ]
  },
  {
   "cell_type": "markdown",
   "id": "edc90b69",
   "metadata": {},
   "source": [
    "1. Given $\\frac{dy}{dx} = 8x + \\csc^2(x)$ with $y(\\pi/2) = -7$  solve for $y(x)$"
   ]
  },
  {
   "cell_type": "code",
   "execution_count": 28,
   "id": "a0095bfb",
   "metadata": {},
   "outputs": [],
   "source": [
    "integral = sympy.integrate(8*X + sympy.csc(X)**2, X)"
   ]
  },
  {
   "cell_type": "code",
   "execution_count": 29,
   "id": "e18f76dd",
   "metadata": {},
   "outputs": [],
   "source": [
    "C = - integral.subs(X, sympy.pi/2) - 7\n",
    "y = integral + C"
   ]
  },
  {
   "cell_type": "code",
   "execution_count": 30,
   "id": "ef989883",
   "metadata": {},
   "outputs": [
    {
     "data": {
      "text/latex": [
       "$\\displaystyle -7$"
      ],
      "text/plain": [
       "-7"
      ]
     },
     "execution_count": 30,
     "metadata": {},
     "output_type": "execute_result"
    }
   ],
   "source": [
    "y.subs(X, sympy.pi/2)"
   ]
  },
  {
   "cell_type": "code",
   "execution_count": 31,
   "id": "18c191a9",
   "metadata": {},
   "outputs": [
    {
     "data": {
      "text/latex": [
       "$\\displaystyle 4 X^{2} - \\pi^{2} - 7 - \\frac{\\cos{\\left(X \\right)}}{\\sin{\\left(X \\right)}}$"
      ],
      "text/plain": [
       "4*X**2 - pi**2 - 7 - cos(X)/sin(X)"
      ]
     },
     "execution_count": 31,
     "metadata": {},
     "output_type": "execute_result"
    }
   ],
   "source": [
    "y"
   ]
  },
  {
   "cell_type": "markdown",
   "id": "0f97e9a9",
   "metadata": {},
   "source": [
    "# More Complicated Expressions"
   ]
  },
  {
   "cell_type": "markdown",
   "id": "b2afcf21",
   "metadata": {},
   "source": [
    "$$\\int \\frac{(1+\\sqrt{x})^{1/3}}{\\sqrt{x}} dx$$"
   ]
  },
  {
   "cell_type": "code",
   "execution_count": 32,
   "id": "e9a3210d",
   "metadata": {},
   "outputs": [
    {
     "data": {
      "text/latex": [
       "$\\displaystyle \\frac{3 \\sqrt{X} \\sqrt[3]{\\sqrt{X} + 1}}{2} + \\frac{3 \\sqrt[3]{\\sqrt{X} + 1}}{2}$"
      ],
      "text/plain": [
       "3*sqrt(X)*(sqrt(X) + 1)**(1/3)/2 + 3*(sqrt(X) + 1)**(1/3)/2"
      ]
     },
     "execution_count": 32,
     "metadata": {},
     "output_type": "execute_result"
    }
   ],
   "source": [
    "sympy.integrate((1+sympy.sqrt(X))**sympy.Rational(1,3) / sympy.sqrt(X), X)"
   ]
  },
  {
   "cell_type": "markdown",
   "id": "e4126dee",
   "metadata": {},
   "source": [
    "$$\\int x (1-x^2)^{1/4} dx$$"
   ]
  },
  {
   "cell_type": "code",
   "execution_count": 33,
   "id": "ad284115",
   "metadata": {},
   "outputs": [
    {
     "data": {
      "text/latex": [
       "$\\displaystyle \\frac{2 X^{2} \\sqrt[4]{1 - X^{2}}}{5} - \\frac{2 \\sqrt[4]{1 - X^{2}}}{5}$"
      ],
      "text/plain": [
       "2*X**2*(1 - X**2)**(1/4)/5 - 2*(1 - X**2)**(1/4)/5"
      ]
     },
     "execution_count": 33,
     "metadata": {},
     "output_type": "execute_result"
    }
   ],
   "source": [
    "sympy.integrate(X*(1-X**2)**sympy.Rational(1/4), X)"
   ]
  },
  {
   "cell_type": "markdown",
   "id": "e7a7d9ae",
   "metadata": {},
   "source": [
    "$$ \\int \\frac{(2x-1)\\cos(\\sqrt{3(2x-1)^2+6})}{\\sqrt{3(2x-1)^2+6}} dx $$"
   ]
  },
  {
   "cell_type": "code",
   "execution_count": 34,
   "id": "0159a147",
   "metadata": {},
   "outputs": [
    {
     "data": {
      "text/latex": [
       "$\\displaystyle \\frac{\\sin{\\left(\\sqrt{3 \\left(2 X - 1\\right)^{2} + 6} \\right)}}{6}$"
      ],
      "text/plain": [
       "sin(sqrt(3*(2*X - 1)**2 + 6))/6"
      ]
     },
     "execution_count": 34,
     "metadata": {},
     "output_type": "execute_result"
    }
   ],
   "source": [
    "sympy.integrate((2*X -1)*sympy.cos(sympy.sqrt(3*(2*X-1)**2 + 6)) / sympy.sqrt(3*(2*X-1)**2 + 6), X)"
   ]
  },
  {
   "cell_type": "markdown",
   "id": "a8f1d6b7",
   "metadata": {},
   "source": [
    "# Definite Anti-Derivative"
   ]
  },
  {
   "cell_type": "markdown",
   "id": "67aae1a2",
   "metadata": {},
   "source": [
    "$$\\int_{0}^{\\ln(4)}\\frac{e^x dt}{\\sqrt{e^{2x}+9}} $$"
   ]
  },
  {
   "cell_type": "code",
   "execution_count": 35,
   "id": "5074ffd4",
   "metadata": {},
   "outputs": [
    {
     "data": {
      "text/latex": [
       "$\\displaystyle - \\operatorname{asinh}{\\left(\\frac{1}{3} \\right)} + \\operatorname{asinh}{\\left(\\frac{4}{3} \\right)}$"
      ],
      "text/plain": [
       "-asinh(1/3) + asinh(4/3)"
      ]
     },
     "execution_count": 35,
     "metadata": {},
     "output_type": "execute_result"
    }
   ],
   "source": [
    "sympy.integrate(sympy.exp(X) / sympy.sqrt(sympy.exp(2*X) + 9), (X, 0, sympy.log(4)))"
   ]
  },
  {
   "cell_type": "markdown",
   "id": "f85c62f9",
   "metadata": {},
   "source": [
    "$$\\int_1^t x^{10} e^x dx $$"
   ]
  },
  {
   "cell_type": "code",
   "execution_count": 36,
   "id": "7a32ae4b",
   "metadata": {},
   "outputs": [],
   "source": [
    "t= sympy.symbols('t')"
   ]
  },
  {
   "cell_type": "code",
   "execution_count": 37,
   "id": "4c459e3d",
   "metadata": {},
   "outputs": [
    {
     "data": {
      "text/latex": [
       "$\\displaystyle \\left(t^{10} - 10 t^{9} + 90 t^{8} - 720 t^{7} + 5040 t^{6} - 30240 t^{5} + 151200 t^{4} - 604800 t^{3} + 1814400 t^{2} - 3628800 t + 3628800\\right) e^{t} - 1334961 e$"
      ],
      "text/plain": [
       "(t**10 - 10*t**9 + 90*t**8 - 720*t**7 + 5040*t**6 - 30240*t**5 + 151200*t**4 - 604800*t**3 + 1814400*t**2 - 3628800*t + 3628800)*exp(t) - 1334961*E"
      ]
     },
     "execution_count": 37,
     "metadata": {},
     "output_type": "execute_result"
    }
   ],
   "source": [
    "sympy.integrate(X**10*sympy.exp(X), (X, 1, t))"
   ]
  },
  {
   "cell_type": "markdown",
   "id": "2d59341c",
   "metadata": {},
   "source": [
    "# Improper Anti-Derivative"
   ]
  },
  {
   "cell_type": "markdown",
   "id": "15f86cce",
   "metadata": {},
   "source": [
    "$$ \\int_{0}^{\\infty} \\frac{16 \\tan^{-1}(x)}{1+x^2} dx $$"
   ]
  },
  {
   "cell_type": "code",
   "execution_count": 38,
   "id": "31218a45",
   "metadata": {},
   "outputs": [
    {
     "data": {
      "text/latex": [
       "$\\displaystyle 2 \\pi^{2}$"
      ],
      "text/plain": [
       "2*pi**2"
      ]
     },
     "execution_count": 38,
     "metadata": {},
     "output_type": "execute_result"
    }
   ],
   "source": [
    "sympy.integrate(16*sympy.atan(X) / (1+X**2), (X, 0, sympy.oo))"
   ]
  },
  {
   "cell_type": "markdown",
   "id": "2db09c3c",
   "metadata": {},
   "source": [
    "# Sequences and Series"
   ]
  },
  {
   "cell_type": "code",
   "execution_count": 39,
   "id": "1cffbea0",
   "metadata": {},
   "outputs": [],
   "source": [
    "n = sympy.symbols('n')"
   ]
  },
  {
   "cell_type": "markdown",
   "id": "f8eadded",
   "metadata": {},
   "source": [
    "$$ \\sum_{n=0}^\\infty \\frac{6}{4^n} $$"
   ]
  },
  {
   "cell_type": "code",
   "execution_count": 40,
   "id": "4f591ba5",
   "metadata": {},
   "outputs": [
    {
     "data": {
      "text/latex": [
       "$\\displaystyle 8$"
      ],
      "text/plain": [
       "8"
      ]
     },
     "execution_count": 40,
     "metadata": {},
     "output_type": "execute_result"
    }
   ],
   "source": [
    "sympy.Sum(6/4**n, (n,0,sympy.oo)).doit()"
   ]
  },
  {
   "cell_type": "markdown",
   "id": "5f08ab2a",
   "metadata": {},
   "source": [
    "$$ \\sum_{n=0}^\\infty \\frac{2^{n+1}}{5^n} $$"
   ]
  },
  {
   "cell_type": "code",
   "execution_count": 41,
   "id": "70309829",
   "metadata": {},
   "outputs": [
    {
     "data": {
      "text/latex": [
       "$\\displaystyle \\frac{10}{3}$"
      ],
      "text/plain": [
       "10/3"
      ]
     },
     "execution_count": 41,
     "metadata": {},
     "output_type": "execute_result"
    }
   ],
   "source": [
    "sympy.Sum(2**(n+1) / 5**n, (n,0,sympy.oo)).doit()"
   ]
  },
  {
   "cell_type": "markdown",
   "id": "16e5b7bf",
   "metadata": {},
   "source": [
    "$$ \\sum_{n=1}^{\\infty} \\frac{\\tan^{-1}(n)}{n^{1.1}} $$"
   ]
  },
  {
   "cell_type": "code",
   "execution_count": 42,
   "id": "63bce94c",
   "metadata": {},
   "outputs": [
    {
     "data": {
      "text/latex": [
       "$\\displaystyle \\sum_{n=1}^{\\infty} \\frac{\\operatorname{atan}{\\left(n \\right)}}{n^{\\frac{11}{10}}}$"
      ],
      "text/plain": [
       "Sum(atan(n)/n**(11/10), (n, 1, oo))"
      ]
     },
     "execution_count": 42,
     "metadata": {},
     "output_type": "execute_result"
    }
   ],
   "source": [
    "sympy.Sum(sympy.atan(n)/n**sympy.Rational(11,10), (n,1,sympy.oo)).doit()"
   ]
  },
  {
   "cell_type": "markdown",
   "id": "aee1bc66",
   "metadata": {},
   "source": [
    "$$ \\sum_{n=1}^\\infty \\frac{1 + \\cos(n)}{n^2}$$"
   ]
  },
  {
   "cell_type": "code",
   "execution_count": 43,
   "id": "a79ffb44",
   "metadata": {},
   "outputs": [
    {
     "data": {
      "text/latex": [
       "$\\displaystyle 1.969$"
      ],
      "text/plain": [
       "1.969"
      ]
     },
     "execution_count": 43,
     "metadata": {},
     "output_type": "execute_result"
    }
   ],
   "source": [
    "sympy.Sum((1+sympy.cos(n))/n**2, (n,1,sympy.oo)).n()"
   ]
  },
  {
   "cell_type": "code",
   "execution_count": null,
   "id": "2120692c",
   "metadata": {},
   "outputs": [],
   "source": []
  }
 ],
 "metadata": {
  "kernelspec": {
   "display_name": "Python 3",
   "language": "python",
   "name": "python3"
  },
  "language_info": {
   "codemirror_mode": {
    "name": "ipython",
    "version": 3
   },
   "file_extension": ".py",
   "mimetype": "text/x-python",
   "name": "python",
   "nbconvert_exporter": "python",
   "pygments_lexer": "ipython3",
   "version": "3.8.11"
  }
 },
 "nbformat": 4,
 "nbformat_minor": 5
}
